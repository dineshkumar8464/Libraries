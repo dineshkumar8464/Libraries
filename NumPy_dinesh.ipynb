{
  "nbformat": 4,
  "nbformat_minor": 0,
  "metadata": {
    "colab": {
      "provenance": [],
      "authorship_tag": "ABX9TyPUPr0Qdh10JhLJpCaYJj3e",
      "include_colab_link": true
    },
    "kernelspec": {
      "name": "python3",
      "display_name": "Python 3"
    },
    "language_info": {
      "name": "python"
    }
  },
  "cells": [
    {
      "cell_type": "markdown",
      "metadata": {
        "id": "view-in-github",
        "colab_type": "text"
      },
      "source": [
        "<a href=\"https://colab.research.google.com/github/dineshkumar8464/pandas/blob/main/NumPy_dinesh.ipynb\" target=\"_parent\"><img src=\"https://colab.research.google.com/assets/colab-badge.svg\" alt=\"Open In Colab\"/></a>"
      ]
    },
    {
      "cell_type": "markdown",
      "source": [
        "Importing numPy"
      ],
      "metadata": {
        "id": "IjyJQrXxL6KI"
      }
    },
    {
      "cell_type": "code",
      "source": [
        "import numpy as np"
      ],
      "metadata": {
        "id": "eMH-UJ9QMKWw"
      },
      "execution_count": null,
      "outputs": []
    },
    {
      "cell_type": "markdown",
      "source": [
        "#Create Arrays"
      ],
      "metadata": {
        "id": "MU6piLeZxags"
      }
    },
    {
      "cell_type": "code",
      "source": [
        "a = np.array([1,2,3,4,5])\n",
        "a\n"
      ],
      "metadata": {
        "colab": {
          "base_uri": "https://localhost:8080/"
        },
        "id": "ueuK4PYUMOos",
        "outputId": "10f493ca-0497-4299-cf0d-97447f299e63",
        "collapsed": true
      },
      "execution_count": null,
      "outputs": [
        {
          "output_type": "execute_result",
          "data": {
            "text/plain": [
              "array([1, 2, 3, 4, 5])"
            ]
          },
          "metadata": {},
          "execution_count": 4
        }
      ]
    },
    {
      "cell_type": "code",
      "source": [
        "b = np.aray([1,2,3,4,5])  # array not aray\n",
        "b"
      ],
      "metadata": {
        "colab": {
          "base_uri": "https://localhost:8080/",
          "height": 291
        },
        "collapsed": true,
        "id": "u9KMGxB-S7lb",
        "outputId": "28521c97-b8bf-4b14-bb30-fef0e275e06b"
      },
      "execution_count": null,
      "outputs": [
        {
          "output_type": "error",
          "ename": "AttributeError",
          "evalue": "module 'numpy' has no attribute 'aray'",
          "traceback": [
            "\u001b[0;31m---------------------------------------------------------------------------\u001b[0m",
            "\u001b[0;31mAttributeError\u001b[0m                            Traceback (most recent call last)",
            "\u001b[0;32m<ipython-input-5-db22871c8ab9>\u001b[0m in \u001b[0;36m<cell line: 1>\u001b[0;34m()\u001b[0m\n\u001b[0;32m----> 1\u001b[0;31m \u001b[0mb\u001b[0m \u001b[0;34m=\u001b[0m \u001b[0mnp\u001b[0m\u001b[0;34m.\u001b[0m\u001b[0maray\u001b[0m\u001b[0;34m(\u001b[0m\u001b[0;34m[\u001b[0m\u001b[0;36m1\u001b[0m\u001b[0;34m,\u001b[0m\u001b[0;36m2\u001b[0m\u001b[0;34m,\u001b[0m\u001b[0;36m3\u001b[0m\u001b[0;34m,\u001b[0m\u001b[0;36m4\u001b[0m\u001b[0;34m,\u001b[0m\u001b[0;36m5\u001b[0m\u001b[0;34m]\u001b[0m\u001b[0;34m)\u001b[0m\u001b[0;34m\u001b[0m\u001b[0;34m\u001b[0m\u001b[0m\n\u001b[0m\u001b[1;32m      2\u001b[0m \u001b[0mb\u001b[0m\u001b[0;34m\u001b[0m\u001b[0;34m\u001b[0m\u001b[0m\n",
            "\u001b[0;32m/usr/local/lib/python3.10/dist-packages/numpy/__init__.py\u001b[0m in \u001b[0;36m__getattr__\u001b[0;34m(attr)\u001b[0m\n\u001b[1;32m    326\u001b[0m             \u001b[0;32mraise\u001b[0m \u001b[0mRuntimeError\u001b[0m\u001b[0;34m(\u001b[0m\u001b[0;34m\"Tester was removed in NumPy 1.25.\"\u001b[0m\u001b[0;34m)\u001b[0m\u001b[0;34m\u001b[0m\u001b[0;34m\u001b[0m\u001b[0m\n\u001b[1;32m    327\u001b[0m \u001b[0;34m\u001b[0m\u001b[0m\n\u001b[0;32m--> 328\u001b[0;31m         raise AttributeError(\"module {!r} has no attribute \"\n\u001b[0m\u001b[1;32m    329\u001b[0m                              \"{!r}\".format(__name__, attr))\n\u001b[1;32m    330\u001b[0m \u001b[0;34m\u001b[0m\u001b[0m\n",
            "\u001b[0;31mAttributeError\u001b[0m: module 'numpy' has no attribute 'aray'"
          ]
        }
      ]
    },
    {
      "cell_type": "markdown",
      "source": [
        "creating some numpy arrays and functions\n"
      ],
      "metadata": {
        "id": "m7qyoZuTTHMr"
      }
    },
    {
      "cell_type": "code",
      "source": [
        "arr1 = np.array ([1,2,3,4,5])\n",
        "arr2 =np.array([6,7,8,9,10])\n",
        "print(arr1)\n",
        "print(arr2)\n",
        "\n",
        "a1 = arr1 + arr2\n",
        "a2 = arr1-arr2\n",
        "a3 = arr1*arr2\n",
        "a4 = arr2/arr1\n",
        "print(a1)\n",
        "print(a2)\n",
        "print(a3)\n",
        "print(a4)"
      ],
      "metadata": {
        "colab": {
          "base_uri": "https://localhost:8080/"
        },
        "id": "spn1KU-4TMKm",
        "outputId": "84815225-74b4-41c1-99c6-15ebc51a0f9b",
        "collapsed": true
      },
      "execution_count": null,
      "outputs": [
        {
          "output_type": "stream",
          "name": "stdout",
          "text": [
            "[1 2 3 4 5]\n",
            "[ 6  7  8  9 10]\n",
            "[ 7  9 11 13 15]\n",
            "[-5 -5 -5 -5 -5]\n",
            "[ 6 14 24 36 50]\n",
            "[6.         3.5        2.66666667 2.25       2.        ]\n"
          ]
        }
      ]
    },
    {
      "cell_type": "code",
      "source": [
        "#addition\n",
        "arr1 = np.array ([1,2,3,4,5])\n",
        "arr2 =np.array([6,7,8,9,8])\n",
        "print(arr1)\n",
        "\n",
        "a1 = arr1 + arr2\n",
        "a2 = arr1-arr2\n",
        "a3 = arr1*arr2\n",
        "a4 = arr2/arr1\n",
        "print(a1)\n",
        "print(a2)\n",
        "print(a3)\n",
        "print(a4)"
      ],
      "metadata": {
        "colab": {
          "base_uri": "https://localhost:8080/"
        },
        "collapsed": true,
        "id": "zMegQUtpVjB1",
        "outputId": "699f17af-3704-40fd-f560-511a71c6c8a5"
      },
      "execution_count": null,
      "outputs": [
        {
          "output_type": "stream",
          "name": "stdout",
          "text": [
            "[1 2 3 4 5]\n",
            "[ 7  9 11 13 13]\n",
            "[-5 -5 -5 -5 -3]\n",
            "[ 6 14 24 36 40]\n",
            "[6.         3.5        2.66666667 2.25       1.6       ]\n"
          ]
        }
      ]
    },
    {
      "cell_type": "markdown",
      "source": [
        "#Create Arrays using Arange ()"
      ],
      "metadata": {
        "id": "u2Tb0VP4xkiC"
      }
    },
    {
      "cell_type": "markdown",
      "source": [
        "**arange function** ( )\n"
      ],
      "metadata": {
        "id": "rImWLPjaV6x7"
      }
    },
    {
      "cell_type": "code",
      "source": [
        "array = np.arange(10)\n",
        "array1=np.arange(10,20)\n",
        "print(array)\n",
        "print(array1)\n",
        "\n",
        "a1= array + array1\n",
        "a2= array - array1\n",
        "a3= array * array1\n",
        "a4= array / array1\n",
        "print(a1)\n",
        "print(a2)\n",
        "print(a3)\n",
        "print(a4)\n",
        "print(\" \\n\")\n",
        "\n",
        "\n",
        "#create 2D array with arange function using reshape\n",
        "array2 = np.arange(10).reshape(2,5)\n",
        "print(array2)\n",
        "print(\" \\n\")\n",
        "\n",
        "array3 = np.arange(10).reshape(5,2)\n",
        "print(array3)\n",
        "print(\" \\n\")\n",
        "\n",
        "array4 = np.arange(10).reshape(2,5)\n",
        "print(array4)"
      ],
      "metadata": {
        "colab": {
          "base_uri": "https://localhost:8080/"
        },
        "id": "WlahaIBRWBg0",
        "outputId": "df02ad8a-6b2d-4b3e-ecbb-f550704723d7",
        "collapsed": true
      },
      "execution_count": null,
      "outputs": [
        {
          "output_type": "stream",
          "name": "stdout",
          "text": [
            "[0 1 2 3 4 5 6 7 8 9]\n",
            "[10 11 12 13 14 15 16 17 18 19]\n",
            "[10 12 14 16 18 20 22 24 26 28]\n",
            "[-10 -10 -10 -10 -10 -10 -10 -10 -10 -10]\n",
            "[  0  11  24  39  56  75  96 119 144 171]\n",
            "[0.         0.09090909 0.16666667 0.23076923 0.28571429 0.33333333\n",
            " 0.375      0.41176471 0.44444444 0.47368421]\n",
            " \n",
            "\n",
            "[[0 1 2 3 4]\n",
            " [5 6 7 8 9]]\n",
            " \n",
            "\n",
            "[[0 1]\n",
            " [2 3]\n",
            " [4 5]\n",
            " [6 7]\n",
            " [8 9]]\n",
            " \n",
            "\n",
            "[[0 1 2 3 4]\n",
            " [5 6 7 8 9]]\n"
          ]
        }
      ]
    },
    {
      "cell_type": "markdown",
      "source": [
        "#NUMPY VS PYTHON"
      ],
      "metadata": {
        "id": "k-C1v7g3x2n4"
      }
    },
    {
      "cell_type": "markdown",
      "source": [
        "Numpy is fast and convinent when compared to python"
      ],
      "metadata": {
        "id": "VYpv0jnAyGmL"
      }
    },
    {
      "cell_type": "code",
      "source": [
        "import numpy as np\n",
        "import sys\n",
        "import time\n",
        "\n",
        "#value for py and np\n",
        "value =10000000\n",
        "\n",
        "#python lists\n",
        "list1 = range(value)\n",
        "list2 = range(value)\n",
        "\n",
        "#numpy arrays\n",
        "array1 = np.arange(value)\n",
        "array2 = np.arange(value)\n",
        "\n",
        "# python list\n",
        "start = time.time()\n",
        "result = [(x+y) for x,y in zip(list1,list2)]\n",
        "print(\"python list time took : \",(time.time() - start)*1000)\n",
        "\n",
        "#numpy array\n",
        "start = time.time()\n",
        "print(array1 + array2)\n",
        "print(\"numpy array time took : \" ,(time.time() - start)*1000)\n"
      ],
      "metadata": {
        "colab": {
          "base_uri": "https://localhost:8080/"
        },
        "id": "W-8MFDF-XWr9",
        "outputId": "66902a17-5cea-4ddb-9322-3e38d65e5de5",
        "collapsed": true
      },
      "execution_count": null,
      "outputs": [
        {
          "output_type": "stream",
          "name": "stdout",
          "text": [
            "python list time took :  1219.3031311035156\n",
            "[       0        2        4 ... 19999994 19999996 19999998]\n",
            "numpy array time took :  162.78386116027832\n"
          ]
        }
      ]
    },
    {
      "cell_type": "markdown",
      "source": [
        "#Basic Array Operations"
      ],
      "metadata": {
        "id": "vC80TuXl0q_F"
      }
    },
    {
      "cell_type": "markdown",
      "source": [
        "\n",
        "\n",
        "*   FOR our better understanding the dimensions will be base on the square bracktes\n",
        "\n",
        "\n",
        "\n",
        "1.   1D   --> [ values ]\n",
        "\n",
        "2.  2D    --> [ [ values ] ]\n",
        "\n",
        "3.  3D    --> [ [ [ values ] ] ]\n",
        "\n",
        "\n",
        "\n"
      ],
      "metadata": {
        "id": "gWZ93BIeZSUB"
      }
    },
    {
      "cell_type": "code",
      "source": [
        "import numpy as np\n",
        "\n",
        "#1D array --> array [ ]\n",
        "\n",
        "a = np.array([1,2,3,4,5])\n",
        "print(\"The dimension of the array is : \", a.ndim)\n",
        "print(a)\n",
        "\n",
        "#2dimesion array --> array [ [ ] ]\n",
        "\n",
        "a2 = np.array([[1,2],[4,3],[3,4]])\n",
        "print(\"The dimensions of the array is : \", a2.ndim)\n",
        "print(a2)\n",
        "\n",
        "#3dimension array --> array [ [ [ ] ] ]\n",
        "\n",
        "a3 = np.array([[[1,2],[3,4]],[[5,6],[7,8]]])\n",
        "print(\"The dimensions of the array is : \", a3.ndim)\n",
        "print(a3)\n",
        "\n"
      ],
      "metadata": {
        "colab": {
          "base_uri": "https://localhost:8080/"
        },
        "id": "40XgoIF2Z6dr",
        "outputId": "9c0b85cd-f761-44b7-af01-29fe0e81a572"
      },
      "execution_count": null,
      "outputs": [
        {
          "output_type": "stream",
          "name": "stdout",
          "text": [
            "The dimension of the array is :  1\n",
            "[1 2 3 4 5]\n",
            "The dimensions of the array is :  2\n",
            "[[1 2]\n",
            " [4 3]\n",
            " [3 4]]\n",
            "The dimensions of the array is :  3\n",
            "[[[1 2]\n",
            "  [3 4]]\n",
            "\n",
            " [[5 6]\n",
            "  [7 8]]]\n"
          ]
        }
      ]
    },
    {
      "cell_type": "markdown",
      "source": [
        "\n",
        "\n",
        "1.  **Itemsize**\n",
        "2.  **size**\n",
        "3.  **shape**\n",
        "4.  **dtype**\n"
      ],
      "metadata": {
        "id": "kLfbApAz22vX"
      }
    },
    {
      "cell_type": "code",
      "source": [
        "import numpy as np\n",
        "\n",
        "#1D Array\n",
        "\n",
        "a = np.array([1,2,3,4,5])\n",
        "print(a)\n",
        "print(a.itemsize)\n",
        "print(\"\")\n",
        "print(a.size)\n",
        "print(\"\")\n",
        "print(a.shape)\n",
        "print(\"\")\n",
        "print(a.dtype)\n",
        "print(\"\")\n",
        "\n",
        "\n",
        "#2d array\n",
        "\n",
        "a2= np.array([[1,2],[3,4]])\n",
        "print(a2)\n",
        "print(\"\")\n",
        "print(a2.itemsize)\n",
        "print(\"\")\n",
        "print(a2.size)\n",
        "print(\"\")\n",
        "print(a2.shape)\n",
        "print(\"\")\n",
        "print(a2.dtype)\n",
        "print(\"\")\n",
        "\n",
        "#3d array\n",
        "\n",
        "a3= np.array([[[1,2],[3,4]],[[5,6],[7,8]]])\n",
        "print(a3)\n",
        "print(\"\")\n",
        "print(a3.itemsize)\n",
        "print(\"\")\n",
        "print(a3.size)\n",
        "print(\"\")\n",
        "print(a3.shape)\n",
        "print(\"\")\n",
        "print(a3.dtype)\n"
      ],
      "metadata": {
        "colab": {
          "base_uri": "https://localhost:8080/"
        },
        "id": "zjzzyQ-_dQxv",
        "outputId": "c3a6fa4c-a33a-498f-ab83-5a9e0f7bc035",
        "collapsed": true
      },
      "execution_count": null,
      "outputs": [
        {
          "output_type": "stream",
          "name": "stdout",
          "text": [
            "[1 2 3 4 5]\n",
            "8\n",
            "\n",
            "5\n",
            "\n",
            "(5,)\n",
            "\n",
            "int64\n",
            "\n",
            "[[1 2]\n",
            " [3 4]]\n",
            "\n",
            "8\n",
            "\n",
            "4\n",
            "\n",
            "(2, 2)\n",
            "\n",
            "int64\n",
            "\n",
            "[[[1 2]\n",
            "  [3 4]]\n",
            "\n",
            " [[5 6]\n",
            "  [7 8]]]\n",
            "\n",
            "8\n",
            "\n",
            "8\n",
            "\n",
            "(2, 2, 2)\n",
            "\n",
            "int64\n"
          ]
        }
      ]
    },
    {
      "cell_type": "markdown",
      "source": [
        "**zeros and ones function**"
      ],
      "metadata": {
        "id": "qpK3wYhPcjLX"
      }
    },
    {
      "cell_type": "code",
      "source": [
        "import numpy as np\n",
        "a = np.zeros((2,3))\n",
        "print(a)\n",
        "print(\" \")\n",
        "\n",
        "b = np.ones((2,5))\n",
        "print(b)"
      ],
      "metadata": {
        "colab": {
          "base_uri": "https://localhost:8080/"
        },
        "id": "JnB72tCvf05F",
        "outputId": "fcedf3b9-6e92-4bf5-e60c-48e9739f2a1f",
        "collapsed": true
      },
      "execution_count": null,
      "outputs": [
        {
          "output_type": "stream",
          "name": "stdout",
          "text": [
            "[[0. 0. 0.]\n",
            " [0. 0. 0.]]\n",
            " \n",
            "[[1. 1. 1. 1. 1.]\n",
            " [1. 1. 1. 1. 1.]]\n"
          ]
        }
      ]
    },
    {
      "cell_type": "markdown",
      "source": [
        "1.  **Range**\n",
        "2.  **Arange**\n",
        "3.  **Linspace**"
      ],
      "metadata": {
        "id": "t13iV-xSg4Hm"
      }
    },
    {
      "cell_type": "code",
      "source": [
        "#range function\n",
        "list1 = range(10)\n",
        "print(list1)\n",
        "print(\"\")\n",
        "print(list1[2])\n",
        "print('')\n",
        "\n",
        "list2 = range (0,10,2)\n",
        "print(list2)\n",
        "print('')\n",
        "print(list2[3])\n",
        "print\n",
        "\n",
        "\n",
        "#arange function\n",
        "array = np.arange(10)\n",
        "print(array)\n",
        "print('')\n",
        "print(array[2])   #acces index\n",
        "print('')\n",
        "\n",
        "array1 = np.arange(0,10,2)\n",
        "print(array1)\n",
        "print('')\n",
        "print(array1[3])   #acess index\n",
        "print('')\n",
        "\n",
        "\n",
        "array1 = np.arange(1,5)\n",
        "print(array1)\n",
        "print('')\n",
        "print(array1[3])    #acess index\n",
        "print('')\n",
        "\n",
        "array2 = np.arange(1,10,2)\n",
        "print(array2)\n",
        "print('')\n",
        "print(array2[3])     #acess index\n",
        "print('')\n",
        "\n",
        "array3 = np.arange(1,10,5)\n",
        "print(array3)\n",
        "print('')\n",
        "\n",
        "\n",
        "array4 = np.arange(1,10,3)\n",
        "print(array3[1])      #acess index\n",
        "print('')\n",
        "\n",
        "#linspace\n",
        "#it increases the values upto 50 there is no step value will be given\n",
        "\n",
        "arr = np.linspace(1,10)   # 1---------10, total 50 values will be displayed\n",
        "print(arr)\n",
        "print(\"\")\n",
        "a=np.linspace(10,15)\n",
        "print(a)\n",
        "print(\"\")\n",
        "arr1=np.linspace(1,10,5)     #there is a step value, so values printed upto 1-10\n",
        "print(arr1)\n",
        "print(\"\")\n",
        "arr4=np.linspace(1,10,3)\n",
        "print(arr4)\n",
        "print(\"\")\n",
        "arr2=np.linspace(1,10,20)\n",
        "print(arr2)\n",
        "print(\"\")\n",
        "arr3=np.linspace(1,10,3)\n",
        "print(arr3)\n",
        "print(\"\")"
      ],
      "metadata": {
        "colab": {
          "base_uri": "https://localhost:8080/"
        },
        "id": "9wY8vmTEg83k",
        "outputId": "1a9f896c-95df-44bf-e626-1671b51454fd",
        "collapsed": true
      },
      "execution_count": null,
      "outputs": [
        {
          "output_type": "stream",
          "name": "stdout",
          "text": [
            "range(0, 10)\n",
            "\n",
            "2\n",
            "\n",
            "range(0, 10, 2)\n",
            "\n",
            "6\n",
            "[0 1 2 3 4 5 6 7 8 9]\n",
            "\n",
            "2\n",
            "\n",
            "[0 2 4 6 8]\n",
            "\n",
            "6\n",
            "\n",
            "[1 2 3 4]\n",
            "\n",
            "4\n",
            "\n",
            "[1 3 5 7 9]\n",
            "\n",
            "7\n",
            "\n",
            "[1 6]\n",
            "\n",
            "6\n",
            "\n",
            "[ 1.          1.18367347  1.36734694  1.55102041  1.73469388  1.91836735\n",
            "  2.10204082  2.28571429  2.46938776  2.65306122  2.83673469  3.02040816\n",
            "  3.20408163  3.3877551   3.57142857  3.75510204  3.93877551  4.12244898\n",
            "  4.30612245  4.48979592  4.67346939  4.85714286  5.04081633  5.2244898\n",
            "  5.40816327  5.59183673  5.7755102   5.95918367  6.14285714  6.32653061\n",
            "  6.51020408  6.69387755  6.87755102  7.06122449  7.24489796  7.42857143\n",
            "  7.6122449   7.79591837  7.97959184  8.16326531  8.34693878  8.53061224\n",
            "  8.71428571  8.89795918  9.08163265  9.26530612  9.44897959  9.63265306\n",
            "  9.81632653 10.        ]\n",
            "\n",
            "[10.         10.10204082 10.20408163 10.30612245 10.40816327 10.51020408\n",
            " 10.6122449  10.71428571 10.81632653 10.91836735 11.02040816 11.12244898\n",
            " 11.2244898  11.32653061 11.42857143 11.53061224 11.63265306 11.73469388\n",
            " 11.83673469 11.93877551 12.04081633 12.14285714 12.24489796 12.34693878\n",
            " 12.44897959 12.55102041 12.65306122 12.75510204 12.85714286 12.95918367\n",
            " 13.06122449 13.16326531 13.26530612 13.36734694 13.46938776 13.57142857\n",
            " 13.67346939 13.7755102  13.87755102 13.97959184 14.08163265 14.18367347\n",
            " 14.28571429 14.3877551  14.48979592 14.59183673 14.69387755 14.79591837\n",
            " 14.89795918 15.        ]\n",
            "\n",
            "[ 1.    3.25  5.5   7.75 10.  ]\n",
            "\n",
            "[ 1.   5.5 10. ]\n",
            "\n",
            "[ 1.          1.47368421  1.94736842  2.42105263  2.89473684  3.36842105\n",
            "  3.84210526  4.31578947  4.78947368  5.26315789  5.73684211  6.21052632\n",
            "  6.68421053  7.15789474  7.63157895  8.10526316  8.57894737  9.05263158\n",
            "  9.52631579 10.        ]\n",
            "\n",
            "[ 1.   5.5 10. ]\n",
            "\n"
          ]
        }
      ]
    },
    {
      "cell_type": "markdown",
      "source": [
        "1.  **shape**\n",
        "2.  **reshape**\n",
        "3.  **ravel**\n"
      ],
      "metadata": {
        "id": "Ud3YScKZkTin"
      }
    },
    {
      "cell_type": "code",
      "source": [
        "import numpy as np\n",
        "a= np.array([[1,2],[3,4],[5,6]])\n",
        "print(a)\n",
        "print(a.ndim)\n",
        "print(\"\")\n",
        "print(a.shape)\n",
        "print(\"\")\n",
        "\n",
        "#reshape takes values into an oderwise such as :\n",
        "#array[] [2,3],[4,5],[6,7] ] --> 2,3,4,5,6,7....\n",
        "#it can print the values in order based on the requirements\n",
        "# seee the below code carefully\n",
        "print(a.reshape(2,3))\n",
        "print(\"\")\n",
        "print(a.reshape(3,2))\n",
        "print(\"\")\n",
        "print(a.reshape(6,1))\n",
        "print(\"\")\n",
        "print(a.reshape(1,6))\n"
      ],
      "metadata": {
        "colab": {
          "base_uri": "https://localhost:8080/"
        },
        "id": "Ikd6Ei2NlLAk",
        "outputId": "ea954f12-8c80-4692-bcae-29f8a838a1a2",
        "collapsed": true
      },
      "execution_count": null,
      "outputs": [
        {
          "output_type": "stream",
          "name": "stdout",
          "text": [
            "[[1 2]\n",
            " [3 4]\n",
            " [5 6]]\n",
            "2\n",
            "\n",
            "(3, 2)\n",
            "\n",
            "[[1 2 3]\n",
            " [4 5 6]]\n",
            "\n",
            "[[1 2]\n",
            " [3 4]\n",
            " [5 6]]\n",
            "\n",
            "[[1]\n",
            " [2]\n",
            " [3]\n",
            " [4]\n",
            " [5]\n",
            " [6]]\n",
            "\n",
            "[[1 2 3 4 5 6]]\n",
            "[1 2 3 4 5 6]\n",
            "[[1 2]\n",
            " [3 4]\n",
            " [5 6]]\n"
          ]
        }
      ]
    },
    {
      "cell_type": "code",
      "source": [
        "#ravel makes the flattend array means any dimesional array can be converted into 1d array\n",
        "#it just save as like a copy\n",
        "#for permenant changes we can use inplace= True\n",
        "\n",
        "a= np.array([[1,2],[3,4],[5,6]])\n",
        "print(a.ravel())\n"
      ],
      "metadata": {
        "colab": {
          "base_uri": "https://localhost:8080/"
        },
        "id": "WXRk1IVI7P5o",
        "outputId": "2538914e-0054-423f-f97d-f5f92c7ff228"
      },
      "execution_count": null,
      "outputs": [
        {
          "output_type": "stream",
          "name": "stdout",
          "text": [
            "[1 2 3 4 5 6]\n"
          ]
        }
      ]
    },
    {
      "cell_type": "markdown",
      "source": [
        "**aggregate functions**\n",
        "\n",
        "1.  sum\n",
        "2.  min\n",
        "3.  max\n",
        "4.  mean ..... etc\n",
        "\n"
      ],
      "metadata": {
        "id": "VQ6yMU3JmoxE"
      }
    },
    {
      "cell_type": "code",
      "source": [
        "import numpy as np\n",
        "a = np.array([[1,2,3,4,5],[5,3,2,3,1]])\n",
        "print(a)\n",
        "print(a.ndim)\n",
        "print(\"\")\n",
        "print(np.sum(a))\n",
        "print(\"\")\n",
        "print(np.min(a))\n",
        "print(\"\")\n",
        "print(np.max(a))\n",
        "print(\"\")\n",
        "print(np.mean(a))\n",
        "\n",
        "#axis (x=0 for columns, x=1 for rows)\n",
        "# we are using magical operators (__add__ ,__sub__ ) for coloumn and rowwise additions\n",
        "\n",
        "print(np.sum(a,axis=0))                  # columnwise addition\n",
        "print(\"\")\n",
        "print(np.sum(a,axis=1))                  # rowwise addition\n",
        "print(\"\")\n",
        "\n",
        "#sqrt, std( we can call it as numpy or np.sqrt(), numpy or np.stdev())\n",
        "b= np.array([[4,16],[25,64],[9,16]])\n",
        "print(a.ndim)\n",
        "print(np.sqrt(b))\n",
        "print(\"\")\n",
        "print(np.std(b))\n",
        "\n",
        "\n",
        "\n"
      ],
      "metadata": {
        "colab": {
          "base_uri": "https://localhost:8080/"
        },
        "id": "EtmD1rzdm0lN",
        "outputId": "4eaa00bd-fe5c-4f8f-ed76-3e56cce444b5",
        "collapsed": true
      },
      "execution_count": null,
      "outputs": [
        {
          "output_type": "stream",
          "name": "stdout",
          "text": [
            "[[1 2 3 4 5]\n",
            " [5 3 2 3 1]]\n",
            "2\n",
            "\n",
            "29\n",
            "\n",
            "1\n",
            "\n",
            "5\n",
            "\n",
            "2.9\n",
            "[6 5 5 7 6]\n",
            "\n",
            "[15 14]\n",
            "\n",
            "2\n",
            "[[2. 4.]\n",
            " [5. 8.]\n",
            " [3. 4.]]\n",
            "\n",
            "19.737161790783286\n"
          ]
        }
      ]
    },
    {
      "cell_type": "markdown",
      "source": [
        "**operations in numpy that python cant do directly**"
      ],
      "metadata": {
        "id": "qo2ASq72pABE"
      }
    },
    {
      "cell_type": "code",
      "source": [
        "import numpy as np\n",
        "a = np.array([[1,2],[5,10]])\n",
        "b = np.array([[6,7],[9,10]])\n",
        "\n",
        "#in python we cannot perform these (add,sub,mul,div) operations on array\n",
        "#we can do these type of operations on arrays in python, we can use (__add__, __mul__ ) magical operators but we can easily do in numpy\n",
        "#numpy is more convienent\n",
        "\n",
        "print(a+b)\n",
        "print(\"\")\n",
        "print(a-b)\n",
        "print(\"\")\n",
        "print(a*b)\n",
        "print(\"\")\n",
        "print(a/b)\n",
        "print(\"\")\n",
        "print(a%b)"
      ],
      "metadata": {
        "colab": {
          "base_uri": "https://localhost:8080/"
        },
        "id": "GkxavLbApE0c",
        "outputId": "6fe6d7c1-4bb8-4b02-94e5-eb6aa77cc91d",
        "collapsed": true
      },
      "execution_count": null,
      "outputs": [
        {
          "output_type": "stream",
          "name": "stdout",
          "text": [
            "[[ 7  9]\n",
            " [14 20]]\n",
            "\n",
            "[[-5 -5]\n",
            " [-4  0]]\n",
            "\n",
            "[[  6  14]\n",
            " [ 45 100]]\n",
            "\n",
            "[[0.16666667 0.28571429]\n",
            " [0.55555556 1.        ]]\n",
            "\n",
            "[[1 2]\n",
            " [5 0]]\n"
          ]
        }
      ]
    },
    {
      "cell_type": "markdown",
      "source": [
        "**matrix product**"
      ],
      "metadata": {
        "id": "Ixg2o_njqZz6"
      }
    },
    {
      "cell_type": "code",
      "source": [
        "import numpy as np\n",
        "a = np.array([[1,2],[3,4]])\n",
        "b = np.array([[5,6],[7,8]])\n",
        "\n",
        "print(a.dot(b))"
      ],
      "metadata": {
        "colab": {
          "base_uri": "https://localhost:8080/"
        },
        "id": "fIyFQeJGqcWQ",
        "outputId": "944c2ab8-35af-49a7-957a-f4b5c984e8bc",
        "collapsed": true
      },
      "execution_count": null,
      "outputs": [
        {
          "output_type": "stream",
          "name": "stdout",
          "text": [
            "[[19 22]\n",
            " [43 50]]\n"
          ]
        }
      ]
    },
    {
      "cell_type": "markdown",
      "source": [
        "#Indixing and slicing\n",
        "\n",
        "\n",
        "   \n",
        "\n"
      ],
      "metadata": {
        "id": "DjBFqDXaEGCn"
      }
    },
    {
      "cell_type": "markdown",
      "source": [
        "**1D Array**"
      ],
      "metadata": {
        "id": "vLRDKUf3_M1y"
      }
    },
    {
      "cell_type": "code",
      "source": [
        "import numpy as np\n",
        "\n",
        "#one dimensional array\n",
        "#list\n",
        "n=[1,2,3,4,5,6]\n",
        "print(n)\n",
        "print(\"\")\n",
        "print(n[0:3])\n",
        "print(\"\")\n",
        "print(n[-1])\n",
        "print(\"\")\n",
        "\n",
        "#1Darray in numpy\n",
        "#same as list slicing and indexing in python with some diffrences\n",
        "a= np.array([1,2,3,4,5])\n",
        "print(a)\n",
        "print(\"\")\n",
        "print(a[0:3])\n",
        "print(\"\")\n",
        "print(a[-1])\n"
      ],
      "metadata": {
        "colab": {
          "base_uri": "https://localhost:8080/"
        },
        "id": "tO0pVwIDEL_R",
        "outputId": "b7e76204-8b77-4518-8ccc-80426a225964",
        "collapsed": true
      },
      "execution_count": null,
      "outputs": [
        {
          "output_type": "stream",
          "name": "stdout",
          "text": [
            "[1, 2, 3, 4, 5, 6]\n",
            "\n",
            "[1, 2, 3]\n",
            "\n",
            "6\n",
            "\n",
            "[1 2 3 4 5]\n",
            "\n",
            "[1 2 3]\n",
            "\n",
            "5\n"
          ]
        }
      ]
    },
    {
      "cell_type": "markdown",
      "source": [
        "**2D array**"
      ],
      "metadata": {
        "id": "d_sheIsFFg1I"
      }
    },
    {
      "cell_type": "code",
      "source": [
        "import numpy as np\n",
        "a= np.array([[1,2,3],[5,6,7],[9,3,2]])\n",
        "print(a)\n",
        "print(a.ndim)\n",
        "print(\" \")\n",
        "print(a[0:1])\n",
        "print(\" \")\n",
        "print(a[0:2])\n",
        "print(\" \")\n",
        "print(a[0:3])\n",
        "print(\" \")\n",
        "print(\"0:2 represents 0&1'th rows and the '2' represents the 2nd coloumn elements in the 0 and 1 rows\")\n",
        "print(a[0:2,2])\n",
        "print(\" \")\n",
        "print(a[-1])\n",
        "print(\"\")\n",
        "print(\"-1 represents last row '0:2' represent 0 and 1'th coloumn values\")\n",
        "print(a[-1,0:2])\n",
        "print(\" \")\n",
        "print(\"we want print 2nd column values such as 2,6,3 :\")\n",
        "print(a[0:4,1])\n",
        "print(\"\")\n",
        "print(\"we want to print 2nd row values such as 5,6,7\")\n",
        "print(a[-2,0:3]) #(a[1,0:3])"
      ],
      "metadata": {
        "colab": {
          "base_uri": "https://localhost:8080/"
        },
        "id": "fzHLMaaEFlZi",
        "outputId": "7516c9f7-1eb4-4b2c-8a44-c8e8a47341e2",
        "collapsed": true
      },
      "execution_count": null,
      "outputs": [
        {
          "output_type": "stream",
          "name": "stdout",
          "text": [
            "[[1 2 3]\n",
            " [5 6 7]\n",
            " [9 3 2]]\n",
            "2\n",
            " \n",
            "[[1 2 3]]\n",
            " \n",
            "[[1 2 3]\n",
            " [5 6 7]]\n",
            " \n",
            "[[1 2 3]\n",
            " [5 6 7]\n",
            " [9 3 2]]\n",
            " \n",
            "0:2 represents 0&1'th rows and the '2' represents the 2nd coloumn elements in the 0 and 1 rows\n",
            "[3 7]\n",
            " \n",
            "[9 3 2]\n",
            "\n",
            "-1 represents last row '0:2' represent 0 and 1'th coloumn values\n",
            "[9 3]\n",
            " \n",
            "we want print 2nd column values such as 2,6,3 :\n",
            "[2 6 3]\n",
            "\n",
            "we want to print 2nd row values such as 5,6,7\n",
            "[5 6 7]\n"
          ]
        }
      ]
    },
    {
      "cell_type": "markdown",
      "source": [
        "loop iterate"
      ],
      "metadata": {
        "id": "QsC4iMYzKr-E"
      }
    },
    {
      "cell_type": "code",
      "source": [
        "import numpy as np\n",
        "a = np.array([[1,2,3],[4,5,6],[9,3,2]])\n",
        "print(a)\n",
        "print(\"\")\n",
        "for i in a:\n",
        "  print(i)\n",
        "\n",
        "#for flattend (ravel) means any array converted into 1dimensional array\n",
        "print(\"\")\n",
        "for j in a.flat:       # like ravel\n",
        "  print(j)\n",
        "\n"
      ],
      "metadata": {
        "colab": {
          "base_uri": "https://localhost:8080/"
        },
        "id": "xsTY7nhCK1DC",
        "outputId": "7551aa7e-bb2b-419e-8cb0-34bd32206500",
        "collapsed": true
      },
      "execution_count": null,
      "outputs": [
        {
          "output_type": "stream",
          "name": "stdout",
          "text": [
            "[[1 2 3]\n",
            " [4 5 6]\n",
            " [9 3 2]]\n",
            "\n",
            "[1 2 3]\n",
            "[4 5 6]\n",
            "[9 3 2]\n",
            "\n",
            "1\n",
            "2\n",
            "3\n",
            "4\n",
            "5\n",
            "6\n",
            "9\n",
            "3\n",
            "2\n"
          ]
        }
      ]
    },
    {
      "cell_type": "markdown",
      "source": [
        "#Stacking\n",
        "\n",
        "1.  VSTACK\n",
        "2.  HSTACK\n",
        "3.  VSPLIT\n",
        "4.  HSPLIT\n",
        "\n"
      ],
      "metadata": {
        "id": "xyFHQeyBDoNT"
      }
    },
    {
      "cell_type": "markdown",
      "source": [
        "**vstack**"
      ],
      "metadata": {
        "id": "ytgZOzTvMF2Y"
      }
    },
    {
      "cell_type": "code",
      "source": [
        "import numpy as np\n",
        "a=np.array([[1,2,3],[4,5,6]])\n",
        "b=np.array([[7,8,9],[10,11,12]])\n",
        "print(a)\n",
        "print(\"\")\n",
        "print(b)\n",
        "print(\"\")\n",
        "print(np.vstack((a,b)))   # vertical ( --- )"
      ],
      "metadata": {
        "colab": {
          "base_uri": "https://localhost:8080/"
        },
        "id": "ZJQgSWkAMH5S",
        "outputId": "c6f54958-6c71-4afc-c380-392865b11025",
        "collapsed": true
      },
      "execution_count": null,
      "outputs": [
        {
          "output_type": "stream",
          "name": "stdout",
          "text": [
            "[[1 2 3]\n",
            " [4 5 6]]\n",
            "\n",
            "[[ 7  8  9]\n",
            " [10 11 12]]\n",
            "\n",
            "[[ 1  2  3]\n",
            " [ 4  5  6]\n",
            " [ 7  8  9]\n",
            " [10 11 12]]\n"
          ]
        }
      ]
    },
    {
      "cell_type": "markdown",
      "source": [
        "**hstack**\n"
      ],
      "metadata": {
        "id": "Z9qjBHfOMiwS"
      }
    },
    {
      "cell_type": "code",
      "source": [
        "import numpy as np\n",
        "a=np.array([[1,2,3],[4,5,6]])\n",
        "b=np.array([[7,8,9],[10,11,12]])\n",
        "print(a)\n",
        "print(\"\")\n",
        "print(b)\n",
        "print(\"\")\n",
        "# 1st row --> a[1]b\n",
        "# 2nd row --> a[2]b[1]\n",
        "\n",
        "print(np.hstack((a,b)))   # horixontal ( | )"
      ],
      "metadata": {
        "colab": {
          "base_uri": "https://localhost:8080/"
        },
        "id": "lrqLwdrfMkov",
        "outputId": "83c6bb9a-c65d-4cf9-8995-0f37f7c5c30f",
        "collapsed": true
      },
      "execution_count": null,
      "outputs": [
        {
          "output_type": "stream",
          "name": "stdout",
          "text": [
            "[[1 2 3]\n",
            " [4 5 6]]\n",
            "\n",
            "[[ 7  8  9]\n",
            " [10 11 12]]\n",
            "\n",
            "[[ 1  2  3  7  8  9]\n",
            " [ 4  5  6 10 11 12]]\n"
          ]
        }
      ]
    },
    {
      "cell_type": "markdown",
      "source": [
        "1. **vsplit**\n",
        "2. **hsplit**"
      ],
      "metadata": {
        "id": "vCrulHWiO5Tr"
      }
    },
    {
      "cell_type": "code",
      "source": [
        "import numpy as np\n",
        "a=np.arange(30).reshape(2,15)              # create 2D array with reshape function\n",
        "print(a)\n",
        "print(\"\")\n",
        "\n",
        "#vsplit function     -- >  array [ [ A1 , A2 , A3 , A4 ]] the vsplit looks like\n",
        "\n",
        "print(np.vsplit(a,2))\n",
        "value = np.vsplit(a,2)\n",
        "print(\"\")\n",
        "print(value[0])\n",
        "print(\"\")\n",
        "print(value[1])\n",
        "print(\"\\n\")\n",
        "print(\"horizontal split :\")\n",
        "\n",
        "\n",
        "#hsplit function        -- > array [[A1,\n",
        "                                    #A2 ,\n",
        "                                    #A3 ,\n",
        "                                    #A4]] the hsplit looks like\n",
        "\n",
        "print(np.hsplit(a,3))\n",
        "result = np.hsplit(a,3)\n",
        "print(result[0])\n",
        "print(\"\")\n",
        "print(result[1])\n",
        "print(\"\")\n",
        "print(result[2])\n",
        "print(\"\")\n",
        "\n",
        "\n",
        "\n",
        "\n",
        "\n"
      ],
      "metadata": {
        "colab": {
          "base_uri": "https://localhost:8080/"
        },
        "id": "6RavpQCEQenB",
        "outputId": "81df7000-2c55-475b-b6ae-54ea9b5f7bc1",
        "collapsed": true
      },
      "execution_count": null,
      "outputs": [
        {
          "output_type": "stream",
          "name": "stdout",
          "text": [
            "[[ 0  1  2  3  4  5  6  7  8  9 10 11 12 13 14]\n",
            " [15 16 17 18 19 20 21 22 23 24 25 26 27 28 29]]\n",
            "\n",
            "[array([[ 0,  1,  2,  3,  4,  5,  6,  7,  8,  9, 10, 11, 12, 13, 14]]), array([[15, 16, 17, 18, 19, 20, 21, 22, 23, 24, 25, 26, 27, 28, 29]])]\n",
            "\n",
            "[[ 0  1  2  3  4  5  6  7  8  9 10 11 12 13 14]]\n",
            "\n",
            "[[15 16 17 18 19 20 21 22 23 24 25 26 27 28 29]]\n",
            "\n",
            "\n",
            "horizontal split :\n",
            "[array([[ 0,  1,  2,  3,  4],\n",
            "       [15, 16, 17, 18, 19]]), array([[ 5,  6,  7,  8,  9],\n",
            "       [20, 21, 22, 23, 24]]), array([[10, 11, 12, 13, 14],\n",
            "       [25, 26, 27, 28, 29]])]\n",
            "[[ 0  1  2  3  4]\n",
            " [15 16 17 18 19]]\n",
            "\n",
            "[[ 5  6  7  8  9]\n",
            " [20 21 22 23 24]]\n",
            "\n",
            "[[10 11 12 13 14]\n",
            " [25 26 27 28 29]]\n",
            "\n"
          ]
        }
      ]
    },
    {
      "cell_type": "markdown",
      "source": [
        "**Indexing with boolean values**"
      ],
      "metadata": {
        "id": "0LEhg-LqTThb"
      }
    },
    {
      "cell_type": "code",
      "source": [
        "import numpy as np\n",
        "a= np.arange(12).reshape( 3,4)\n",
        "print(a)\n",
        "print(\"\")\n",
        "b=a>5\n",
        "print(b)\n",
        "print(\"\")\n",
        "print(a[b])\n",
        "a[b]=-1\n",
        "print(a)\n"
      ],
      "metadata": {
        "colab": {
          "base_uri": "https://localhost:8080/"
        },
        "id": "hroW9YX6TYRa",
        "outputId": "b64875d4-8b15-4404-a941-76ba02401ccd"
      },
      "execution_count": null,
      "outputs": [
        {
          "output_type": "stream",
          "name": "stdout",
          "text": [
            "[[ 0  1  2  3]\n",
            " [ 4  5  6  7]\n",
            " [ 8  9 10 11]]\n",
            "\n",
            "[[False False False False]\n",
            " [False False  True  True]\n",
            " [ True  True  True  True]]\n",
            "\n",
            "[ 6  7  8  9 10 11]\n",
            "[[ 0  1  2  3]\n",
            " [ 4  5 -1 -1]\n",
            " [-1 -1 -1 -1]]\n"
          ]
        }
      ]
    },
    {
      "cell_type": "markdown",
      "source": [
        "read file\n"
      ],
      "metadata": {
        "id": "sY9ivSKGUS3j"
      }
    },
    {
      "cell_type": "code",
      "source": [
        "import numpy as np\n",
        "x=np.array([[1,2,3],[3,4,5],[6,7,8]])\n",
        "np.savetxt(\"test.txt\",x)\n",
        "\n",
        "y=np.loadtxt(\"test.txt\")\n",
        "print(y)"
      ],
      "metadata": {
        "colab": {
          "base_uri": "https://localhost:8080/"
        },
        "id": "i4Brq0LWU-zh",
        "outputId": "7dd9ab7e-a308-4898-97a9-612754413652"
      },
      "execution_count": null,
      "outputs": [
        {
          "output_type": "stream",
          "name": "stdout",
          "text": [
            "[[1. 2. 3.]\n",
            " [3. 4. 5.]\n",
            " [6. 7. 8.]]\n"
          ]
        }
      ]
    },
    {
      "cell_type": "markdown",
      "source": [
        "**Iterate array**\n"
      ],
      "metadata": {
        "id": "fRefCAZoWu_9"
      }
    },
    {
      "cell_type": "code",
      "source": [
        "import numpy as np\n",
        "a=np.arange(12).reshape (3,4)\n",
        "print(a)\n",
        "print(\" \")\n",
        "\n",
        "#loop\n",
        "#horizontal iteration\n",
        "for i in a:\n",
        "  print(i)\n",
        "\n",
        "#vertical iteration\n",
        "print(\"\")\n",
        "for j in a:\n",
        "  for k in j:\n",
        "    print(k)\n"
      ],
      "metadata": {
        "colab": {
          "base_uri": "https://localhost:8080/"
        },
        "id": "sMXIVLoprKBj",
        "outputId": "e8b25f22-72c9-46b3-e7f0-99533ba410ab"
      },
      "execution_count": null,
      "outputs": [
        {
          "output_type": "stream",
          "name": "stdout",
          "text": [
            "[[ 0  1  2  3]\n",
            " [ 4  5  6  7]\n",
            " [ 8  9 10 11]]\n",
            " \n",
            "[0 1 2 3]\n",
            "[4 5 6 7]\n",
            "[ 8  9 10 11]\n",
            "\n",
            "0\n",
            "1\n",
            "2\n",
            "3\n",
            "4\n",
            "5\n",
            "6\n",
            "7\n",
            "8\n",
            "9\n",
            "10\n",
            "11\n"
          ]
        }
      ]
    },
    {
      "cell_type": "markdown",
      "source": [
        "#np.nditer()\n",
        "\n",
        "1. **c oder - (c and  nditer)  print elements in column wise\n",
        "2.   f order -( only fortran) print elements in row wise**\n",
        "\n",
        "c order and f order only for the read only modes\n",
        "we can not perform modifiactions in this methods\n",
        "for example\n",
        " i[...] =i*i\n",
        "  print(i)\n",
        "we get an error as the method as for read only\n",
        "\n",
        "we wanna apply modifiactions we can use opflags['readwrite']"
      ],
      "metadata": {
        "id": "kFJlb1hksdCx"
      }
    },
    {
      "cell_type": "markdown",
      "source": [
        "**DEFAULT ORDER**\n",
        "\n",
        "\n",
        "1. It can print in rowwise by default"
      ],
      "metadata": {
        "id": "P7heClzRGK5A"
      }
    },
    {
      "cell_type": "code",
      "source": [
        "import numpy as np\n",
        "a=np.arange(12).reshape (3,4)\n",
        "print(a)\n",
        "print(\" \")\n",
        "\n",
        "for x in np.nditer(a):\n",
        "  print(x)\n",
        "\n",
        "\n"
      ],
      "metadata": {
        "colab": {
          "base_uri": "https://localhost:8080/"
        },
        "id": "uBr5CQhcsgmQ",
        "outputId": "a424472f-3698-431b-98e3-d8f57ad79c8e",
        "collapsed": true
      },
      "execution_count": null,
      "outputs": [
        {
          "output_type": "stream",
          "name": "stdout",
          "text": [
            "[[ 0  1  2  3]\n",
            " [ 4  5  6  7]\n",
            " [ 8  9 10 11]]\n",
            " \n",
            "0\n",
            "1\n",
            "2\n",
            "3\n",
            "4\n",
            "5\n",
            "6\n",
            "7\n",
            "8\n",
            "9\n",
            "10\n",
            "11\n"
          ]
        }
      ]
    },
    {
      "cell_type": "markdown",
      "source": [
        "**C ORDER**"
      ],
      "metadata": {
        "id": "Pcuz8qFBGF5_"
      }
    },
    {
      "cell_type": "code",
      "source": [
        "import numpy as np\n",
        "a=np.arange(12).reshape (3,4)\n",
        "print(a)\n",
        "print(\" \")\n",
        "for j in np.nditer(a,order='C'):\n",
        "  print(j)\n",
        "\n",
        "\n",
        "# this method is only for read only, no write (modifications ) will be done\n",
        "# EXAMPLE --> j[...] =j*i\n",
        "# print(j)\n",
        "# we can run this modification of multiplication we get an error\n"
      ],
      "metadata": {
        "colab": {
          "base_uri": "https://localhost:8080/"
        },
        "id": "FsBdkrVNtFo2",
        "outputId": "521fc3d6-f86c-4ef6-d6c5-e5a7067da2e0",
        "collapsed": true
      },
      "execution_count": null,
      "outputs": [
        {
          "output_type": "stream",
          "name": "stdout",
          "text": [
            "[[ 0  1  2  3]\n",
            " [ 4  5  6  7]\n",
            " [ 8  9 10 11]]\n",
            " \n",
            "0\n",
            "1\n",
            "2\n",
            "3\n",
            "4\n",
            "5\n",
            "6\n",
            "7\n",
            "8\n",
            "9\n",
            "10\n",
            "11\n"
          ]
        }
      ]
    },
    {
      "cell_type": "markdown",
      "source": [
        "**F ORDER**"
      ],
      "metadata": {
        "id": "4qAazT0bGBaX"
      }
    },
    {
      "cell_type": "code",
      "source": [
        "import numpy as np\n",
        "a=np.arange(12).reshape (3,4)\n",
        "print(a)\n",
        "print(\" \")\n",
        "for i in np.nditer(a,order='F'):\n",
        "  print(i)\n"
      ],
      "metadata": {
        "colab": {
          "base_uri": "https://localhost:8080/"
        },
        "id": "iNNwpTkStTQt",
        "outputId": "5843150b-e79d-451c-9166-5722d02b3143",
        "collapsed": true
      },
      "execution_count": null,
      "outputs": [
        {
          "output_type": "stream",
          "name": "stdout",
          "text": [
            "[[ 0  1  2  3]\n",
            " [ 4  5  6  7]\n",
            " [ 8  9 10 11]]\n",
            " \n",
            "0\n",
            "4\n",
            "8\n",
            "1\n",
            "5\n",
            "9\n",
            "2\n",
            "6\n",
            "10\n",
            "3\n",
            "7\n",
            "11\n"
          ]
        }
      ]
    },
    {
      "cell_type": "markdown",
      "source": [
        "**flags**\n",
        "\n",
        "*   it can help to print the values of horizontal or vertical format in to an array format\n",
        "\n",
        "*     ex : 1 2 3 4 5 6                  \n",
        "                        11           \n",
        "                        21  -->    [1,2,3]\n",
        "                        31         [4,5,6]\n",
        "                        41         [11,21,31]\n",
        "                        51         [41,51,61]\n",
        "                        61\n",
        "\n",
        "\n",
        "\n"
      ],
      "metadata": {
        "id": "YLQLmRkAvdqF"
      }
    },
    {
      "cell_type": "code",
      "source": [
        "import numpy as np\n",
        "a=np.arange(12).reshape (3,4)\n",
        "print(a)\n",
        "print(\" \")\n",
        "for j in np.nditer(a,order='F',flags=['external_loop']):        #for create output like in an array format\n",
        "  print(j)"
      ],
      "metadata": {
        "colab": {
          "base_uri": "https://localhost:8080/"
        },
        "id": "guGppaHEvg34",
        "outputId": "154690bb-4152-4a28-d948-e99f12922d9b"
      },
      "execution_count": null,
      "outputs": [
        {
          "output_type": "stream",
          "name": "stdout",
          "text": [
            "[[ 0  1  2  3]\n",
            " [ 4  5  6  7]\n",
            " [ 8  9 10 11]]\n",
            " \n",
            "[0 4 8]\n",
            "[1 5 9]\n",
            "[ 2  6 10]\n",
            "[ 3  7 11]\n"
          ]
        }
      ]
    },
    {
      "cell_type": "code",
      "source": [
        "import numpy as np\n",
        "a=np.arange(12).reshape (3,4)\n",
        "for i in np.nditer(a,op_flags=['readwrite']):                 # using readwrite in nditer for modifications\n",
        "  i[...] =i*i\n",
        "  print(i)\n",
        "\n",
        "#covert every number into squares\n",
        "print(a)"
      ],
      "metadata": {
        "colab": {
          "base_uri": "https://localhost:8080/"
        },
        "id": "8ZDQ7dIXvoT0",
        "outputId": "bb86e1a9-9176-494a-9f6b-df5d6e43e407"
      },
      "execution_count": null,
      "outputs": [
        {
          "output_type": "stream",
          "name": "stdout",
          "text": [
            "0\n",
            "1\n",
            "4\n",
            "9\n",
            "16\n",
            "25\n",
            "36\n",
            "49\n",
            "64\n",
            "81\n",
            "100\n",
            "121\n",
            "[[  0   1   4   9]\n",
            " [ 16  25  36  49]\n",
            " [ 64  81 100 121]]\n"
          ]
        }
      ]
    }
  ]
}